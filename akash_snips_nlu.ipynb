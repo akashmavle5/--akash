{
  "nbformat": 4,
  "nbformat_minor": 0,
  "metadata": {
    "colab": {
      "provenance": [],
      "authorship_tag": "ABX9TyODEwuZ75nnyeAHhiCS1AtU",
      "include_colab_link": true
    },
    "kernelspec": {
      "name": "python3",
      "display_name": "Python 3"
    },
    "language_info": {
      "name": "python"
    }
  },
  "cells": [
    {
      "cell_type": "markdown",
      "metadata": {
        "id": "view-in-github",
        "colab_type": "text"
      },
      "source": [
        "<a href=\"https://colab.research.google.com/github/akashmavle5/--akash/blob/main/akash_snips_nlu.ipynb\" target=\"_parent\"><img src=\"https://colab.research.google.com/assets/colab-badge.svg\" alt=\"Open In Colab\"/></a>"
      ]
    },
    {
      "cell_type": "code",
      "execution_count": 1,
      "metadata": {
        "colab": {
          "base_uri": "https://localhost:8080/"
        },
        "id": "521ITtA_DiQq",
        "outputId": "89b011a8-d3b3-42ac-ad62-bf6296c0773e"
      },
      "outputs": [
        {
          "output_type": "stream",
          "name": "stdout",
          "text": [
            "Looking in indexes: https://pypi.org/simple, https://us-python.pkg.dev/colab-wheels/public/simple/\n",
            "Collecting snips-nlu\n",
            "  Downloading snips_nlu-0.20.2-py2.py3-none-any.whl (135 kB)\n",
            "\u001b[K     |████████████████████████████████| 135 kB 7.0 MB/s \n",
            "\u001b[?25hRequirement already satisfied: scipy<2.0,>=1.0 in /usr/local/lib/python3.8/dist-packages (from snips-nlu) (1.7.3)\n",
            "Collecting scikit-learn<0.23,>=0.21.1\n",
            "  Downloading scikit_learn-0.22.2.post1-cp38-cp38-manylinux1_x86_64.whl (7.0 MB)\n",
            "\u001b[K     |████████████████████████████████| 7.0 MB 51.8 MB/s \n",
            "\u001b[?25hCollecting snips-nlu-parsers<0.5,>=0.3.1\n",
            "  Downloading snips_nlu_parsers-0.4.3-cp38-cp38-manylinux1_x86_64.whl (6.8 MB)\n",
            "\u001b[K     |████████████████████████████████| 6.8 MB 37.6 MB/s \n",
            "\u001b[?25hCollecting pyaml<20.0,>=17.0\n",
            "  Downloading pyaml-19.12.0-py2.py3-none-any.whl (17 kB)\n",
            "Requirement already satisfied: requests<3.0,>=2.0 in /usr/local/lib/python3.8/dist-packages (from snips-nlu) (2.23.0)\n",
            "Requirement already satisfied: future<0.18,>=0.16 in /usr/local/lib/python3.8/dist-packages (from snips-nlu) (0.16.0)\n",
            "Collecting deprecation<3.0,>=2.0\n",
            "  Downloading deprecation-2.1.0-py2.py3-none-any.whl (11 kB)\n",
            "Requirement already satisfied: numpy<2.0,>=1.15 in /usr/local/lib/python3.8/dist-packages (from snips-nlu) (1.21.6)\n",
            "Collecting snips-nlu-utils<0.10,>=0.9\n",
            "  Downloading snips_nlu_utils-0.9.1-cp38-cp38-manylinux1_x86_64.whl (1.2 MB)\n",
            "\u001b[K     |████████████████████████████████| 1.2 MB 52.7 MB/s \n",
            "\u001b[?25hCollecting num2words<0.6,>=0.5.6\n",
            "  Downloading num2words-0.5.12-py3-none-any.whl (125 kB)\n",
            "\u001b[K     |████████████████████████████████| 125 kB 64.4 MB/s \n",
            "\u001b[?25hCollecting sklearn-crfsuite<0.4,>=0.3.6\n",
            "  Downloading sklearn_crfsuite-0.3.6-py2.py3-none-any.whl (12 kB)\n",
            "Requirement already satisfied: packaging in /usr/local/lib/python3.8/dist-packages (from deprecation<3.0,>=2.0->snips-nlu) (21.3)\n",
            "Collecting docopt>=0.6.2\n",
            "  Downloading docopt-0.6.2.tar.gz (25 kB)\n",
            "Requirement already satisfied: PyYAML in /usr/local/lib/python3.8/dist-packages (from pyaml<20.0,>=17.0->snips-nlu) (6.0)\n",
            "Requirement already satisfied: chardet<4,>=3.0.2 in /usr/local/lib/python3.8/dist-packages (from requests<3.0,>=2.0->snips-nlu) (3.0.4)\n",
            "Requirement already satisfied: idna<3,>=2.5 in /usr/local/lib/python3.8/dist-packages (from requests<3.0,>=2.0->snips-nlu) (2.10)\n",
            "Requirement already satisfied: certifi>=2017.4.17 in /usr/local/lib/python3.8/dist-packages (from requests<3.0,>=2.0->snips-nlu) (2022.9.24)\n",
            "Requirement already satisfied: urllib3!=1.25.0,!=1.25.1,<1.26,>=1.21.1 in /usr/local/lib/python3.8/dist-packages (from requests<3.0,>=2.0->snips-nlu) (1.24.3)\n",
            "Requirement already satisfied: joblib>=0.11 in /usr/local/lib/python3.8/dist-packages (from scikit-learn<0.23,>=0.21.1->snips-nlu) (1.2.0)\n",
            "Requirement already satisfied: tabulate in /usr/local/lib/python3.8/dist-packages (from sklearn-crfsuite<0.4,>=0.3.6->snips-nlu) (0.8.10)\n",
            "Requirement already satisfied: six in /usr/local/lib/python3.8/dist-packages (from sklearn-crfsuite<0.4,>=0.3.6->snips-nlu) (1.15.0)\n",
            "Requirement already satisfied: tqdm>=2.0 in /usr/local/lib/python3.8/dist-packages (from sklearn-crfsuite<0.4,>=0.3.6->snips-nlu) (4.64.1)\n",
            "Collecting python-crfsuite>=0.8.3\n",
            "  Downloading python_crfsuite-0.9.8-cp38-cp38-manylinux_2_17_x86_64.manylinux2014_x86_64.whl (1.0 MB)\n",
            "\u001b[K     |████████████████████████████████| 1.0 MB 50.4 MB/s \n",
            "\u001b[?25hRequirement already satisfied: pyparsing!=3.0.5,>=2.0.2 in /usr/local/lib/python3.8/dist-packages (from packaging->deprecation<3.0,>=2.0->snips-nlu) (3.0.9)\n",
            "Building wheels for collected packages: docopt\n",
            "  Building wheel for docopt (setup.py) ... \u001b[?25l\u001b[?25hdone\n",
            "  Created wheel for docopt: filename=docopt-0.6.2-py2.py3-none-any.whl size=13723 sha256=045c14df4b88065c626b511751d45d543ac0865d1aa947df9ad3004cffb33013\n",
            "  Stored in directory: /root/.cache/pip/wheels/56/ea/58/ead137b087d9e326852a851351d1debf4ada529b6ac0ec4e8c\n",
            "Successfully built docopt\n",
            "Installing collected packages: python-crfsuite, docopt, snips-nlu-utils, snips-nlu-parsers, sklearn-crfsuite, scikit-learn, pyaml, num2words, deprecation, snips-nlu\n",
            "  Attempting uninstall: scikit-learn\n",
            "    Found existing installation: scikit-learn 1.0.2\n",
            "    Uninstalling scikit-learn-1.0.2:\n",
            "      Successfully uninstalled scikit-learn-1.0.2\n",
            "\u001b[31mERROR: pip's dependency resolver does not currently take into account all the packages that are installed. This behaviour is the source of the following dependency conflicts.\n",
            "yellowbrick 1.5 requires scikit-learn>=1.0.0, but you have scikit-learn 0.22.2.post1 which is incompatible.\n",
            "imbalanced-learn 0.8.1 requires scikit-learn>=0.24, but you have scikit-learn 0.22.2.post1 which is incompatible.\u001b[0m\n",
            "Successfully installed deprecation-2.1.0 docopt-0.6.2 num2words-0.5.12 pyaml-19.12.0 python-crfsuite-0.9.8 scikit-learn-0.22.2.post1 sklearn-crfsuite-0.3.6 snips-nlu-0.20.2 snips-nlu-parsers-0.4.3 snips-nlu-utils-0.9.1\n"
          ]
        }
      ],
      "source": [
        "!pip install snips-nlu"
      ]
    },
    {
      "cell_type": "code",
      "source": [
        "!python -m snips_nlu download en"
      ],
      "metadata": {
        "colab": {
          "base_uri": "https://localhost:8080/"
        },
        "id": "m5Ve_73sDuPU",
        "outputId": "bf200a11-d2a3-47a6-a303-a965682dfdfc"
      },
      "execution_count": 2,
      "outputs": [
        {
          "output_type": "stream",
          "name": "stdout",
          "text": [
            "Looking in indexes: https://pypi.org/simple, https://us-python.pkg.dev/colab-wheels/public/simple/\n",
            "Collecting snips_nlu_en==0.2.3\n",
            "  Downloading https://github.com/snipsco/snips-nlu-language-resources/releases/download/snips_nlu_en-0.2.3/snips_nlu_en-0.2.3.tar.gz (1.3 MB)\n",
            "\u001b[K     |████████████████████████████████| 1.3 MB 680 kB/s \n",
            "\u001b[?25hBuilding wheels for collected packages: snips-nlu-en\n",
            "  Building wheel for snips-nlu-en (setup.py) ... \u001b[?25l\u001b[?25hdone\n",
            "  Created wheel for snips-nlu-en: filename=snips_nlu_en-0.2.3-py3-none-any.whl size=1297477 sha256=ea755514caa431dabc37b00a638d8f5b817898df7f1e30d5f5c88bc392d82343\n",
            "  Stored in directory: /tmp/pip-ephem-wheel-cache-w8n8uqxe/wheels/77/e5/27/a2c7ae7b04c836360914a1ac909339da898cb66444e709f650\n",
            "Successfully built snips-nlu-en\n",
            "Installing collected packages: snips-nlu-en\n",
            "Successfully installed snips-nlu-en-0.2.3\n",
            "\n",
            "\u001b[92mLinking successful\u001b[0m\n",
            "/usr/local/lib/python3.8/dist-packages/snips_nlu_en/snips_nlu_en-0.2.3 --> /usr/local/lib/python3.8/dist-packages/snips_nlu/data/en\n",
            "\n"
          ]
        }
      ]
    },
    {
      "cell_type": "code",
      "source": [
        "!git clone https://github.com/snipsco/snips-nlu.git\n"
      ],
      "metadata": {
        "colab": {
          "base_uri": "https://localhost:8080/"
        },
        "id": "TZvmLVNvD3Wj",
        "outputId": "598a3046-5999-4a4e-d63d-cd97f8e68e8d"
      },
      "execution_count": 3,
      "outputs": [
        {
          "output_type": "stream",
          "name": "stdout",
          "text": [
            "Cloning into 'snips-nlu'...\n",
            "remote: Enumerating objects: 12737, done.\u001b[K\n",
            "remote: Counting objects: 100% (49/49), done.\u001b[K\n",
            "remote: Compressing objects: 100% (41/41), done.\u001b[K\n",
            "remote: Total 12737 (delta 17), reused 35 (delta 8), pack-reused 12688\u001b[K\n",
            "Receiving objects: 100% (12737/12737), 19.82 MiB | 19.08 MiB/s, done.\n",
            "Resolving deltas: 100% (9380/9380), done.\n"
          ]
        }
      ]
    },
    {
      "cell_type": "code",
      "source": [
        "!cd snips-nlu\n",
        "!pwd"
      ],
      "metadata": {
        "colab": {
          "base_uri": "https://localhost:8080/"
        },
        "id": "A04mOZ_nD7Ts",
        "outputId": "eeeebaff-e6d5-4513-e604-669d97ae1417"
      },
      "execution_count": 4,
      "outputs": [
        {
          "output_type": "stream",
          "name": "stdout",
          "text": [
            "/content\n"
          ]
        }
      ]
    },
    {
      "cell_type": "code",
      "source": [
        "from __future__ import unicode_literals, print_function\n",
        "import io\n",
        "import json\n",
        "from snips_nlu import SnipsNLUEngine\n",
        "from snips_nlu.default_configs import CONFIG_EN\n",
        "with io.open(\"/content/snips-nlu/sample_datasets/lights_dataset.json\") as f:    sample_dataset = json.load(f)\n",
        "nlu_engine = SnipsNLUEngine(config=CONFIG_EN)\n",
        "nlu_engine = nlu_engine.fit(sample_dataset)\n",
        "text = \"Customer will pay the fees in the amounts and at the times stated\"\n",
        "parsing = nlu_engine.parse(text)\n",
        "parsing[\"intent\"][\"intentName\"]"
      ],
      "metadata": {
        "id": "JtjBu8JVEK6L"
      },
      "execution_count": 12,
      "outputs": []
    },
    {
      "cell_type": "markdown",
      "source": [
        "# New Section"
      ],
      "metadata": {
        "id": "KHimfP7-EfGa"
      }
    },
    {
      "cell_type": "markdown",
      "source": [
        "# New Section"
      ],
      "metadata": {
        "id": "CKMpKw1fEfda"
      }
    }
  ]
}