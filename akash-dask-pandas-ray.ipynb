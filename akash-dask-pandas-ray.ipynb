{
 "cells": [
  {
   "cell_type": "code",
   "execution_count": null,
   "metadata": {},
   "outputs": [
    {
     "name": "stdout",
     "output_type": "stream",
     "text": [
      "Pandas on Ray:\n"
     ]
    },
    {
     "name": "stderr",
     "output_type": "stream",
     "text": [
      "UserWarning: Ray execution environment not yet initialized. Initializing...\n",
      "To remove this warning, run the following python code before doing dataframe operations:\n",
      "\n",
      "    import ray\n",
      "    ray.init()\n",
      "\n"
     ]
    }
   ],
   "source": [
    "# Pandas on Ray\n",
    "import os\n",
    "#os.environ[\"MODIN_CPUS\"] = \"8\"\n",
    "os.environ[\"MODIN_ENGINE\"] = \"ray\"  # Modin will use Ray\n",
    "import modin.pandas as pd\n",
    "print(\"Pandas on Ray:\")\n",
    "%time pandas_on_ray = pd.read_csv(\"large/midyear_population_age_country_code.csv\")"
   ]
  },
  {
   "cell_type": "code",
   "execution_count": 1,
   "metadata": {},
   "outputs": [
    {
     "name": "stdout",
     "output_type": "stream",
     "text": [
      "\n",
      "Pandas:\n",
      "Wall time: 1min 4s\n"
     ]
    }
   ],
   "source": [
    "# Pandas\n",
    "import pandas as old_pd\n",
    "print(\"\\nPandas:\")\n",
    "%time pandas_native = old_pd.read_csv(\"large/midyear_population_age_country_code.csv\")"
   ]
  },
  {
   "cell_type": "code",
   "execution_count": 2,
   "metadata": {},
   "outputs": [
    {
     "name": "stdout",
     "output_type": "stream",
     "text": [
      "Pandas on Dask:\n"
     ]
    },
    {
     "name": "stderr",
     "output_type": "stream",
     "text": [
      "UserWarning: Dask execution environment not yet initialized. Initializing...\n",
      "To remove this warning, run the following python code before doing dataframe operations:\n",
      "\n",
      "    from distributed import Client\n",
      "\n",
      "    client = Client()\n",
      "\n",
      "UserWarning: Port 8787 is already in use.\n",
      "Perhaps you already have a cluster running?\n",
      "Hosting the HTTP server on port 62943 instead\n"
     ]
    },
    {
     "name": "stdout",
     "output_type": "stream",
     "text": [
      "Wall time: 51.7 s\n"
     ]
    }
   ],
   "source": [
    "# Pandas on Ray\n",
    "import os\n",
    "#os.environ[\"MODIN_CPUS\"] = \"8\"\n",
    "os.environ[\"MODIN_ENGINE\"] = \"dask\"  # Modin will use Dask\n",
    "import modin.pandas as pd\n",
    "print(\"Pandas on Dask:\")\n",
    "%time pandas_on_ray = pd.read_csv(\"large/midyear_population_age_country_code.csv\")\n"
   ]
  },
  {
   "cell_type": "code",
   "execution_count": 3,
   "metadata": {},
   "outputs": [
    {
     "name": "stdout",
     "output_type": "stream",
     "text": [
      "Dask DataFrame speed\n",
      "Wall time: 46.9 ms\n"
     ]
    }
   ],
   "source": [
    "import dask.dataframe as dd\n",
    "print(\"Dask DataFrame speed\")\n",
    "%time df = dd.read_csv(\"large/midyear_population_age_country_code.csv\")"
   ]
  },
  {
   "cell_type": "code",
   "execution_count": 4,
   "metadata": {},
   "outputs": [
    {
     "name": "stderr",
     "output_type": "stream",
     "text": [
      "UserWarning: Port 8787 is already in use.\n",
      "Perhaps you already have a cluster running?\n",
      "Hosting the HTTP server on port 63048 instead\n"
     ]
    },
    {
     "name": "stdout",
     "output_type": "stream",
     "text": [
      "Wall time: 195 ms\n"
     ]
    },
    {
     "data": {
      "text/html": [
       "<table style=\"border: 2px solid white;\">\n",
       "<tr>\n",
       "<td style=\"vertical-align: top; border: 0px solid white\">\n",
       "<h3 style=\"text-align: left;\">Client</h3>\n",
       "<ul style=\"text-align: left; list-style: none; margin: 0; padding: 0;\">\n",
       "  <li><b>Scheduler: </b>tcp://127.0.0.1:63051</li>\n",
       "  <li><b>Dashboard: </b><a href='http://127.0.0.1:63048/status' target='_blank'>http://127.0.0.1:63048/status</a></li>\n",
       "</ul>\n",
       "</td>\n",
       "<td style=\"vertical-align: top; border: 0px solid white\">\n",
       "<h3 style=\"text-align: left;\">Cluster</h3>\n",
       "<ul style=\"text-align: left; list-style:none; margin: 0; padding: 0;\">\n",
       "  <li><b>Workers: </b>4</li>\n",
       "  <li><b>Cores: </b>8</li>\n",
       "  <li><b>Memory: </b>15.81 GiB</li>\n",
       "</ul>\n",
       "</td>\n",
       "</tr>\n",
       "</table>"
      ],
      "text/plain": [
       "<Client: 'tcp://127.0.0.1:63051' processes=4 threads=8, memory=15.81 GiB>"
      ]
     },
     "execution_count": 4,
     "metadata": {},
     "output_type": "execute_result"
    }
   ],
   "source": [
    "#from dask.distributed import Client\n",
    "from dask.distributed import Client, LocalCluster\n",
    "cluster = LocalCluster()\n",
    "cluster.scale(4)\n",
    "client = Client(cluster)\n",
    "#client = Client('192.168.0.12:8786')  # Connect to distributed cluster and override default\n",
    "#df.x.sum().compute()  # This now runs on the distributed system\n",
    "\n",
    "import dask.dataframe as dd\n",
    "%time df = dd.read_csv(\"large/midyear_population_age_country_code.csv\")\n",
    "#df.x.sum().compute()\n",
    "#df = dd.read_csv('s3://dask-data/nyc-taxi/2015/*.csv',\n",
    "#                parse_dates=['tpep_pickup_datetime', 'tpep_dropoff_datetime'],\n",
    "#                storage_options={'anon': True})\n",
    "#dd = client.persist(dd)\n",
    "df = client.persist(df)\n",
    "#progress(df)\n",
    "client"
   ]
  },
  {
   "cell_type": "code",
   "execution_count": null,
   "metadata": {},
   "outputs": [],
   "source": []
  }
 ],
 "metadata": {
  "kernelspec": {
   "display_name": "Python 3",
   "language": "python",
   "name": "python3"
  },
  "language_info": {
   "codemirror_mode": {
    "name": "ipython",
    "version": 3
   },
   "file_extension": ".py",
   "mimetype": "text/x-python",
   "name": "python",
   "nbconvert_exporter": "python",
   "pygments_lexer": "ipython3",
   "version": "3.7.4"
  }
 },
 "nbformat": 4,
 "nbformat_minor": 4
}
